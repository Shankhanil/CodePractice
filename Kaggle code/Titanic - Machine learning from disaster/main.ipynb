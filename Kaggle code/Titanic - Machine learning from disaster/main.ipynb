{
 "cells": [
  {
   "cell_type": "code",
   "execution_count": 11,
   "metadata": {},
   "outputs": [
    {
     "name": "stdout",
     "output_type": "stream",
     "text": [
      "\n",
      "Titanic Machine learning from disaster\n",
      "\n",
      "Columns     DESCRIPTION:\n",
      "survival\tSurvival\t            0 = No, 1 = Yes\n",
      "pclass      Ticket class\t        1 = 1st, 2 = 2nd, 3 = 3rd\n",
      "sex\t        Sex\t\n",
      "Age\t        Age in years\t\n",
      "sibsp\t    # of siblings / spouses aboard the Titanic\t\n",
      "parch\t    # of parents / children aboard the Titanic\t\n",
      "ticket\t    Ticket number\t\n",
      "fare\t    Passenger fare\t\n",
      "cabin\t    Cabin number\t\n",
      "embarked\tPort of Embarkation\t    C = Cherbourg, Q = Queenstown, S = Southampton\n",
      "\n",
      "\n"
     ]
    }
   ],
   "source": [
    "s = \"\"\"\n",
    "Titanic Machine learning from disaster\n",
    "\n",
    "Columns     DESCRIPTION:\n",
    "survival\tSurvival\t            0 = No, 1 = Yes\n",
    "pclass      Ticket class\t        1 = 1st, 2 = 2nd, 3 = 3rd\n",
    "sex\t        Sex\t\n",
    "Age\t        Age in years\t\n",
    "sibsp\t    # of siblings / spouses aboard the Titanic\t\n",
    "parch\t    # of parents / children aboard the Titanic\t\n",
    "ticket\t    Ticket number\t\n",
    "fare\t    Passenger fare\t\n",
    "cabin\t    Cabin number\t\n",
    "embarked\tPort of Embarkation\t    C = Cherbourg, Q = Queenstown, S = Southampton\n",
    "\n",
    "\"\"\"\n",
    "print(s)"
   ]
  },
  {
   "cell_type": "code",
   "execution_count": 12,
   "metadata": {},
   "outputs": [],
   "source": [
    "import os\n",
    "import matplotlib.pyplot as plt\n",
    "import pandas as pd\n",
    "import numpy as np\n",
    "import warnings\n",
    "import seaborn as sns\n",
    "from sklearn.linear_model import LogisticRegression\n",
    "from sklearn.svm import SVC\n",
    "warnings.filterwarnings(action = 'ignore')"
   ]
  },
  {
   "cell_type": "code",
   "execution_count": 13,
   "metadata": {},
   "outputs": [
    {
     "data": {
      "text/plain": [
       "((891, 12), (418, 11))"
      ]
     },
     "execution_count": 13,
     "metadata": {},
     "output_type": "execute_result"
    }
   ],
   "source": [
    "PATH = \"..\\Titanic - Machine learning from disaster\\\\titanic\"\n",
    "    \n",
    "FILES = os.listdir(PATH)\n",
    "\n",
    "xTrain = pd.read_csv(PATH + \"\\\\\" + FILES[2])\n",
    "\n",
    "xTest = pd.read_csv(PATH + \"\\\\\" + FILES[1])\n",
    "\n",
    "xTrain.shape, xTest.shape"
   ]
  },
  {
   "cell_type": "code",
   "execution_count": 14,
   "metadata": {},
   "outputs": [
    {
     "name": "stdout",
     "output_type": "stream",
     "text": [
      "Sample training data:\n",
      "\n",
      "   PassengerId  Survived  Pclass     Sex   Age  SibSp  Parch     Fare Embarked\n",
      "0            1         0       3    male  22.0      1      0   7.2500        S\n",
      "1            2         1       1  female  38.0      1      0  71.2833        C\n",
      "2            3         1       3  female  26.0      0      0   7.9250        S\n",
      "3            4         1       1  female  35.0      1      0  53.1000        S\n",
      "4            5         0       3    male  35.0      0      0   8.0500        S\n",
      "\n",
      "Sample training data:\n",
      "\n",
      "   PassengerId  Pclass     Sex   Age  SibSp  Parch     Fare Embarked\n",
      "0          892       3    male  34.5      0      0   7.8292        Q\n",
      "1          893       3  female  47.0      1      0   7.0000        S\n",
      "2          894       2    male  62.0      0      0   9.6875        Q\n",
      "3          895       3    male  27.0      0      0   8.6625        S\n",
      "4          896       3  female  22.0      1      1  12.2875        S\n"
     ]
    }
   ],
   "source": [
    "Cols_notNeeded = ['Name', 'Ticket', 'Cabin']\n",
    "_xTrain = xTrain.drop(Cols_notNeeded, inplace = False, axis  = 1)\n",
    "_xTest = xTest.drop(Cols_notNeeded, inplace = False, axis  = 1)\n",
    "\n",
    "print(\"Sample training data:\\n\\n{}\\n\\nSample training data:\\n\\n{}\".format(_xTrain.head(), _xTest.head()))"
   ]
  },
  {
   "cell_type": "code",
   "execution_count": 15,
   "metadata": {},
   "outputs": [
    {
     "data": {
      "image/png": "[encoded data removed]",
      "text/plain": [
       "<Figure size 432x288 with 1 Axes>"
      ]
     },
     "metadata": {
      "needs_background": "light"
     },
     "output_type": "display_data"
    }
   ],
   "source": [
    "# visualizing Survival based on gender\n",
    "sns.countplot(x = 'Survived', data = xTrain, hue = 'Sex')\n",
    "\n",
    "plt.show()"
   ]
  },
  {
   "cell_type": "code",
   "execution_count": 16,
   "metadata": {},
   "outputs": [
    {
     "data": {
      "text/plain": [
       "Text(0.5, 0, 'Survival plot for Females')"
      ]
     },
     "execution_count": 16,
     "metadata": {},
     "output_type": "execute_result"
    },
    {
     "data": {
      "image/png": "[encoded data removed]",
      "text/plain": [
       "<Figure size 432x288 with 2 Axes>"
      ]
     },
     "metadata": {
      "needs_background": "light"
     },
     "output_type": "display_data"
    }
   ],
   "source": [
    "#visualizing Survival based on gender and class. \n",
    "plt.subplot(1,2,1)\n",
    "sns.countplot(x = 'Pclass', data = xTrain[xTrain.Sex == 'male'], hue = 'Survived')\n",
    "plt.xlabel(\"Survival plot for Males\")\n",
    "plt.subplot(1,2,2)\n",
    "sns.countplot(x = 'Pclass', data = xTrain[xTrain.Sex == 'female'], hue = 'Survived')\n",
    "plt.xlabel(\"Survival plot for Females\")"
   ]
  },
  {
   "cell_type": "code",
   "execution_count": 17,
   "metadata": {},
   "outputs": [],
   "source": [
    "# encoding text data to numerical data\n",
    "def encode(df, mode):\n",
    "    _df = df\n",
    "    if mode == 'Sex':\n",
    "        for i in range(df.shape[0]):\n",
    "            if df[mode][i] == 'male':\n",
    "                _df[mode][i] = 1\n",
    "            else:\n",
    "                _df[mode][i] = 0\n",
    "    elif mode == 'Embarked':\n",
    "        for i in range(df.shape[0]):\n",
    "            if df[mode][i] == 'C':\n",
    "                _df[mode][i] = 0\n",
    "            elif df[mode][i] == 'Q':\n",
    "                _df[mode][i] = 1\n",
    "            else:\n",
    "                _df[mode][i] = 2\n",
    "    return _df"
   ]
  },
  {
   "cell_type": "code",
   "execution_count": 18,
   "metadata": {},
   "outputs": [
    {
     "data": {
      "text/html": [
       "<div>\n",
       "<style scoped>\n",
       "    .dataframe tbody tr th:only-of-type {\n",
       "        vertical-align: middle;\n",
       "    }\n",
       "\n",
       "    .dataframe tbody tr th {\n",
       "        vertical-align: top;\n",
       "    }\n",
       "\n",
       "    .dataframe thead th {\n",
       "        text-align: right;\n",
       "    }\n",
       "</style>\n",
       "<table border=\"1\" class=\"dataframe\">\n",
       "  <thead>\n",
       "    <tr style=\"text-align: right;\">\n",
       "      <th></th>\n",
       "      <th>PassengerId</th>\n",
       "      <th>Survived</th>\n",
       "      <th>Pclass</th>\n",
       "      <th>Sex</th>\n",
       "      <th>Age</th>\n",
       "      <th>SibSp</th>\n",
       "      <th>Parch</th>\n",
       "      <th>Fare</th>\n",
       "      <th>Embarked</th>\n",
       "    </tr>\n",
       "  </thead>\n",
       "  <tbody>\n",
       "    <tr>\n",
       "      <th>0</th>\n",
       "      <td>1</td>\n",
       "      <td>0</td>\n",
       "      <td>3</td>\n",
       "      <td>1</td>\n",
       "      <td>22.0</td>\n",
       "      <td>1</td>\n",
       "      <td>0</td>\n",
       "      <td>7.2500</td>\n",
       "      <td>2</td>\n",
       "    </tr>\n",
       "    <tr>\n",
       "      <th>1</th>\n",
       "      <td>2</td>\n",
       "      <td>1</td>\n",
       "      <td>1</td>\n",
       "      <td>0</td>\n",
       "      <td>38.0</td>\n",
       "      <td>1</td>\n",
       "      <td>0</td>\n",
       "      <td>71.2833</td>\n",
       "      <td>0</td>\n",
       "    </tr>\n",
       "    <tr>\n",
       "      <th>2</th>\n",
       "      <td>3</td>\n",
       "      <td>1</td>\n",
       "      <td>3</td>\n",
       "      <td>0</td>\n",
       "      <td>26.0</td>\n",
       "      <td>0</td>\n",
       "      <td>0</td>\n",
       "      <td>7.9250</td>\n",
       "      <td>2</td>\n",
       "    </tr>\n",
       "    <tr>\n",
       "      <th>3</th>\n",
       "      <td>4</td>\n",
       "      <td>1</td>\n",
       "      <td>1</td>\n",
       "      <td>0</td>\n",
       "      <td>35.0</td>\n",
       "      <td>1</td>\n",
       "      <td>0</td>\n",
       "      <td>53.1000</td>\n",
       "      <td>2</td>\n",
       "    </tr>\n",
       "    <tr>\n",
       "      <th>4</th>\n",
       "      <td>5</td>\n",
       "      <td>0</td>\n",
       "      <td>3</td>\n",
       "      <td>1</td>\n",
       "      <td>35.0</td>\n",
       "      <td>0</td>\n",
       "      <td>0</td>\n",
       "      <td>8.0500</td>\n",
       "      <td>2</td>\n",
       "    </tr>\n",
       "  </tbody>\n",
       "</table>\n",
       "</div>"
      ],
      "text/plain": [
       "   PassengerId  Survived  Pclass Sex   Age  SibSp  Parch     Fare Embarked\n",
       "0            1         0       3   1  22.0      1      0   7.2500        2\n",
       "1            2         1       1   0  38.0      1      0  71.2833        0\n",
       "2            3         1       3   0  26.0      0      0   7.9250        2\n",
       "3            4         1       1   0  35.0      1      0  53.1000        2\n",
       "4            5         0       3   1  35.0      0      0   8.0500        2"
      ]
     },
     "execution_count": 18,
     "metadata": {},
     "output_type": "execute_result"
    }
   ],
   "source": [
    "#encoding\n",
    "\n",
    "__xTrain = encode(_xTrain, mode = 'Sex')\n",
    "__xTrain = encode(__xTrain, mode = 'Embarked')\n",
    "__xTrain.head()"
   ]
  },
  {
   "cell_type": "code",
   "execution_count": 21,
   "metadata": {},
   "outputs": [],
   "source": [
    "def predictLR(_xTrain, _xTest):\n",
    "    __xTrain = encode(_xTrain, mode = 'Sex')\n",
    "    __xTrain = encode(__xTrain, mode = 'Embarked')\n",
    "    __xTrain = __xTrain.fillna(23)\n",
    "    \n",
    "    __xTest = encode(_xTest, mode = 'Sex')\n",
    "    __xTest = encode(__xTest, mode = 'Embarked')\n",
    "    __xTest = __xTest.fillna(23)\n",
    "    \n",
    "    \n",
    "    LR = LogisticRegression()\n",
    "    svc = SVC()\n",
    "    \n",
    "    #X = __xTrain.drop(columns = \"Survived\", inplace = False)\n",
    "    X = __xTrain[['Pclass','Sex','Age','SibSp','Parch', 'Fare', 'Embarked']]\n",
    "    y = __xTrain['Survived']\n",
    "\n",
    "    trainX = X[0:800]\n",
    "    trainy = y[0:800]\n",
    "\n",
    "    cvX = X[801:890]\n",
    "    cvy = y[801:890]\n",
    "\n",
    "    LR.fit(trainX, trainy)\n",
    "    svc.fit(trainX, trainy)\n",
    "    print(\"Cross validation score LR:{}\".format(LR.score(cvX, cvy)))\n",
    "    print(\"Cross validation score LR:{}\".format(svc.score(cvX, cvy)))\n",
    "    #print(__xTest.columns)\n",
    "    return __xTest['PassengerId'], svc.predict(__xTest[['Pclass', 'Sex', 'Age', 'SibSp', 'Parch', 'Fare', 'Embarked']]), "
   ]
  },
  {
   "cell_type": "code",
   "execution_count": 22,
   "metadata": {},
   "outputs": [
    {
     "name": "stdout",
     "output_type": "stream",
     "text": [
      "Cross validation score LR:0.7303370786516854\n",
      "Cross validation score LR:0.6853932584269663\n"
     ]
    }
   ],
   "source": [
    "res = predict(_xTrain, _xTest)\n",
    "\n",
    "data = {'PassengerId':res[0] , 'Survived': res[1]}\n",
    "\n",
    "df = pd.DataFrame(data)\n",
    "df.to_csv(\"result.csv\")"
   ]
  },
  {
   "cell_type": "code",
   "execution_count": null,
   "metadata": {},
   "outputs": [],
   "source": []
  }
 ],
 "metadata": {
  "kernelspec": {
   "display_name": "Python 3",
   "language": "python",
   "name": "python3"
  },
  "language_info": {
   "codemirror_mode": {
    "name": "ipython",
    "version": 3
   },
   "file_extension": ".py",
   "mimetype": "text/x-python",
   "name": "python",
   "nbconvert_exporter": "python",
   "pygments_lexer": "ipython3",
   "version": "3.7.0"
  }
 },
 "nbformat": 4,
 "nbformat_minor": 4
}
